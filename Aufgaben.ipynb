{
 "cells": [
  {
   "cell_type": "markdown",
   "metadata": {},
   "source": [
    "# Hinweise\n",
    "\n",
    "| **Befehl**      \t| **Beschreibung**                             \t| **Bild**                           \t|\n",
    "|-----------------\t|----------------------------------------------\t|------------------------------------\t|\n",
    "| `Pull`          \t| unten links im VS Code                       \t| ![Git pull](images/pull.png)       \t|\n",
    "| `Stage changes` \t| + Symbol im Source Control Reiter            \t| ![Stage changes](images/stage.png) \t|\n",
    "| `Push`          \t| Sync Changes Button im Source Control Reiter \t| ![Git push](images/push.png)       \t|\n",
    "\n",
    "---\n",
    "\n",
    "# Aufgabe 1\n",
    "\n",
    "1. `Readme.me` so ergänzen, dass dort die Gruppenmitglieder erscheinen.<br>\n",
    "2. Änderungen commiten und pushen\n",
    "\n",
    "> **Hinweis**: Bei der `Readme.md` Datei handelt es sich um eine Markdown Datei. Jupyter Notebooks werden auch in der Markdown Sprache erstellt. Wenn Ihr unischer seid, wie die Syntax von Markdown aussieht, dann könnt Ihr [hier](https://www.markdownguide.org/cheat-sheet) nachschauen\n",
    "\n",
    "* Wenn alles funktioniert hatte, müsste man die Änderung im GitHub sehen können.\n",
    "\n",
    "---\n",
    "\n",
    "# Aufgabe 2\n",
    "\n",
    "![UML Diagramm](images/uml.png)\n",
    "\n",
    "1. Ein Gruppenmitglied soll die Klasse `Anwendungsentwickler` realisieren, der Andere die Klasse `Systemintegrator`\n",
    "      * Vergebt sinnvole Namen  \n",
    "2. Neu erzeugte Dateien commiten und pushen\n",
    "\n",
    "* Wenn alles funktioniert hatte, müsste man die Änderung im GitHub sehen können.\n",
    "\n",
    "---\n",
    "\n",
    "# Aufgabe 3\n",
    "\n",
    "1. Überlege Dir welche Attribute oder Methoden in der Klasse von Deinem Partner noch sinnvoll wären\n",
    "2. Erstelle dazu ein `Issue` im GitHub und teile Deinem Partner das `Issue` zu\n",
    "     * Spezifiziere im `Issue` was in der Klasse sinnvoll wäre\n",
    "3. Passe deine Klasse so an, dass die Vorschläge aus dem `Issue`, der Dir zugeteilt ist, implementiert sind\n",
    "4. Änderungen commiten und pushen\n",
    "5. Schreibe im `Issue`, dass der Vorschlag implementiert wurde und schließe das `Issue` danach\n",
    "6. Hole Dir den neuesten Stand des Codes aus dem Repository und überprüfe, ob Dein Partner Deinen Vorschlag korrekt implementiert hatte\n",
    "      * Hinweis: `git pull`\n",
    "\n",
    "---\n",
    "\n",
    "# Aufgabe 4\n",
    "\n",
    "Teste die realisierte Klasse von Deinem Partner.\n",
    "\n",
    "* Erstelle `3` Objekte von der Klasse\n",
    "* Gib alle Attribute des Objektes aus"
   ]
  }
 ],
 "metadata": {
  "kernelspec": {
   "display_name": "Python 3.10.8 64-bit",
   "language": "python",
   "name": "python3"
  },
  "language_info": {
   "name": "python",
   "version": "3.10.8"
  },
  "orig_nbformat": 4,
  "vscode": {
   "interpreter": {
    "hash": "e7370f93d1d0cde622a1f8e1c04877d8463912d04d973331ad4851f04de6915a"
   }
  }
 },
 "nbformat": 4,
 "nbformat_minor": 2
}
